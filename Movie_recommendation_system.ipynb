{
  "nbformat": 4,
  "nbformat_minor": 0,
  "metadata": {
    "colab": {
      "provenance": []
    },
    "kernelspec": {
      "name": "python3",
      "display_name": "Python 3"
    },
    "language_info": {
      "name": "python"
    }
  },
  "cells": [
    {
      "cell_type": "markdown",
      "source": [
        "#**Movie Recommendation System**"
      ],
      "metadata": {
        "id": "zsTBAj_LUJlf"
      }
    },
    {
      "cell_type": "markdown",
      "source": [
        "Downloading and loading dataset from Kaggle"
      ],
      "metadata": {
        "id": "ykRTGHjRUSKC"
      }
    },
    {
      "cell_type": "code",
      "execution_count": 15,
      "metadata": {
        "colab": {
          "base_uri": "https://localhost:8080/"
        },
        "id": "zVzbVOK4uNbd",
        "outputId": "16ece43b-2534-4b57-9ed5-df1ea8e9d900"
      },
      "outputs": [
        {
          "output_type": "stream",
          "name": "stdout",
          "text": [
            "Requirement already satisfied: kagglehub[pandas-datasets] in /usr/local/lib/python3.12/dist-packages (0.3.13)\n",
            "Requirement already satisfied: packaging in /usr/local/lib/python3.12/dist-packages (from kagglehub[pandas-datasets]) (25.0)\n",
            "Requirement already satisfied: pyyaml in /usr/local/lib/python3.12/dist-packages (from kagglehub[pandas-datasets]) (6.0.2)\n",
            "Requirement already satisfied: requests in /usr/local/lib/python3.12/dist-packages (from kagglehub[pandas-datasets]) (2.32.4)\n",
            "Requirement already satisfied: tqdm in /usr/local/lib/python3.12/dist-packages (from kagglehub[pandas-datasets]) (4.67.1)\n",
            "Requirement already satisfied: pandas in /usr/local/lib/python3.12/dist-packages (from kagglehub[pandas-datasets]) (2.2.2)\n",
            "Requirement already satisfied: numpy>=1.26.0 in /usr/local/lib/python3.12/dist-packages (from pandas->kagglehub[pandas-datasets]) (2.0.2)\n",
            "Requirement already satisfied: python-dateutil>=2.8.2 in /usr/local/lib/python3.12/dist-packages (from pandas->kagglehub[pandas-datasets]) (2.9.0.post0)\n",
            "Requirement already satisfied: pytz>=2020.1 in /usr/local/lib/python3.12/dist-packages (from pandas->kagglehub[pandas-datasets]) (2025.2)\n",
            "Requirement already satisfied: tzdata>=2022.7 in /usr/local/lib/python3.12/dist-packages (from pandas->kagglehub[pandas-datasets]) (2025.2)\n",
            "Requirement already satisfied: charset_normalizer<4,>=2 in /usr/local/lib/python3.12/dist-packages (from requests->kagglehub[pandas-datasets]) (3.4.3)\n",
            "Requirement already satisfied: idna<4,>=2.5 in /usr/local/lib/python3.12/dist-packages (from requests->kagglehub[pandas-datasets]) (3.10)\n",
            "Requirement already satisfied: urllib3<3,>=1.21.1 in /usr/local/lib/python3.12/dist-packages (from requests->kagglehub[pandas-datasets]) (2.5.0)\n",
            "Requirement already satisfied: certifi>=2017.4.17 in /usr/local/lib/python3.12/dist-packages (from requests->kagglehub[pandas-datasets]) (2025.8.3)\n",
            "Requirement already satisfied: six>=1.5 in /usr/local/lib/python3.12/dist-packages (from python-dateutil>=2.8.2->pandas->kagglehub[pandas-datasets]) (1.17.0)\n"
          ]
        },
        {
          "output_type": "stream",
          "name": "stderr",
          "text": [
            "/tmp/ipython-input-1703552038.py:7: DeprecationWarning: Use dataset_load() instead of load_dataset(). load_dataset() will be removed in a future version.\n",
            "  movies = kagglehub.load_dataset(\n"
          ]
        },
        {
          "output_type": "stream",
          "name": "stdout",
          "text": [
            "Using Colab cache for faster access to the 'tmdb-movie-metadata' dataset.\n",
            "Movies shape: (4803, 20)\n",
            "First few movies:\n",
            "      budget                                             genres  \\\n",
            "0  237000000  [{\"id\": 28, \"name\": \"Action\"}, {\"id\": 12, \"nam...   \n",
            "1  300000000  [{\"id\": 12, \"name\": \"Adventure\"}, {\"id\": 14, \"...   \n",
            "2  245000000  [{\"id\": 28, \"name\": \"Action\"}, {\"id\": 12, \"nam...   \n",
            "3  250000000  [{\"id\": 28, \"name\": \"Action\"}, {\"id\": 80, \"nam...   \n",
            "4  260000000  [{\"id\": 28, \"name\": \"Action\"}, {\"id\": 12, \"nam...   \n",
            "\n",
            "                                       homepage      id  \\\n",
            "0                   http://www.avatarmovie.com/   19995   \n",
            "1  http://disney.go.com/disneypictures/pirates/     285   \n",
            "2   http://www.sonypictures.com/movies/spectre/  206647   \n",
            "3            http://www.thedarkknightrises.com/   49026   \n",
            "4          http://movies.disney.com/john-carter   49529   \n",
            "\n",
            "                                            keywords original_language  \\\n",
            "0  [{\"id\": 1463, \"name\": \"culture clash\"}, {\"id\":...                en   \n",
            "1  [{\"id\": 270, \"name\": \"ocean\"}, {\"id\": 726, \"na...                en   \n",
            "2  [{\"id\": 470, \"name\": \"spy\"}, {\"id\": 818, \"name...                en   \n",
            "3  [{\"id\": 849, \"name\": \"dc comics\"}, {\"id\": 853,...                en   \n",
            "4  [{\"id\": 818, \"name\": \"based on novel\"}, {\"id\":...                en   \n",
            "\n",
            "                             original_title  \\\n",
            "0                                    Avatar   \n",
            "1  Pirates of the Caribbean: At World's End   \n",
            "2                                   Spectre   \n",
            "3                     The Dark Knight Rises   \n",
            "4                               John Carter   \n",
            "\n",
            "                                            overview  popularity  \\\n",
            "0  In the 22nd century, a paraplegic Marine is di...  150.437577   \n",
            "1  Captain Barbossa, long believed to be dead, ha...  139.082615   \n",
            "2  A cryptic message from Bond’s past sends him o...  107.376788   \n",
            "3  Following the death of District Attorney Harve...  112.312950   \n",
            "4  John Carter is a war-weary, former military ca...   43.926995   \n",
            "\n",
            "                                production_companies  \\\n",
            "0  [{\"name\": \"Ingenious Film Partners\", \"id\": 289...   \n",
            "1  [{\"name\": \"Walt Disney Pictures\", \"id\": 2}, {\"...   \n",
            "2  [{\"name\": \"Columbia Pictures\", \"id\": 5}, {\"nam...   \n",
            "3  [{\"name\": \"Legendary Pictures\", \"id\": 923}, {\"...   \n",
            "4        [{\"name\": \"Walt Disney Pictures\", \"id\": 2}]   \n",
            "\n",
            "                                production_countries release_date     revenue  \\\n",
            "0  [{\"iso_3166_1\": \"US\", \"name\": \"United States o...   2009-12-10  2787965087   \n",
            "1  [{\"iso_3166_1\": \"US\", \"name\": \"United States o...   2007-05-19   961000000   \n",
            "2  [{\"iso_3166_1\": \"GB\", \"name\": \"United Kingdom\"...   2015-10-26   880674609   \n",
            "3  [{\"iso_3166_1\": \"US\", \"name\": \"United States o...   2012-07-16  1084939099   \n",
            "4  [{\"iso_3166_1\": \"US\", \"name\": \"United States o...   2012-03-07   284139100   \n",
            "\n",
            "   runtime                                   spoken_languages    status  \\\n",
            "0    162.0  [{\"iso_639_1\": \"en\", \"name\": \"English\"}, {\"iso...  Released   \n",
            "1    169.0           [{\"iso_639_1\": \"en\", \"name\": \"English\"}]  Released   \n",
            "2    148.0  [{\"iso_639_1\": \"fr\", \"name\": \"Fran\\u00e7ais\"},...  Released   \n",
            "3    165.0           [{\"iso_639_1\": \"en\", \"name\": \"English\"}]  Released   \n",
            "4    132.0           [{\"iso_639_1\": \"en\", \"name\": \"English\"}]  Released   \n",
            "\n",
            "                                          tagline  \\\n",
            "0                     Enter the World of Pandora.   \n",
            "1  At the end of the world, the adventure begins.   \n",
            "2                           A Plan No One Escapes   \n",
            "3                                 The Legend Ends   \n",
            "4            Lost in our world, found in another.   \n",
            "\n",
            "                                      title  vote_average  vote_count  \n",
            "0                                    Avatar           7.2       11800  \n",
            "1  Pirates of the Caribbean: At World's End           6.9        4500  \n",
            "2                                   Spectre           6.3        4466  \n",
            "3                     The Dark Knight Rises           7.6        9106  \n",
            "4                               John Carter           6.1        2124  \n"
          ]
        }
      ],
      "source": [
        "!pip install kagglehub[pandas-datasets]\n",
        "\n",
        "import kagglehub\n",
        "from kagglehub import KaggleDatasetAdapter\n",
        "\n",
        "#Load movies file\n",
        "movies = kagglehub.load_dataset(\n",
        "    KaggleDatasetAdapter.PANDAS,\n",
        "    \"tmdb/tmdb-movie-metadata\",\n",
        "    \"tmdb_5000_movies.csv\"\n",
        ")\n",
        "\n",
        "print(\"Movies shape:\", movies.shape)\n",
        "print(\"First few movies:\")\n",
        "print(movies.head())\n"
      ]
    },
    {
      "cell_type": "markdown",
      "source": [
        "Importing Libraries"
      ],
      "metadata": {
        "id": "2DtXrPlKIZFO"
      }
    },
    {
      "cell_type": "code",
      "source": [
        "import pandas as pd\n",
        "import numpy as np\n",
        "from sklearn.feature_extraction.text import CountVectorizer\n",
        "from sklearn.metrics.pairwise import cosine_similarity"
      ],
      "metadata": {
        "id": "vmDY-5kKIgUM"
      },
      "execution_count": 16,
      "outputs": []
    },
    {
      "cell_type": "markdown",
      "source": [
        "Selecting useful features"
      ],
      "metadata": {
        "id": "sme4CoSdIpdl"
      }
    },
    {
      "cell_type": "code",
      "source": [
        "movies = movies[['id','title','overview','genres','keywords']]"
      ],
      "metadata": {
        "id": "LDLpHd64IsYd"
      },
      "execution_count": 17,
      "outputs": []
    },
    {
      "cell_type": "markdown",
      "source": [
        "Remove missing values"
      ],
      "metadata": {
        "id": "YVe5LOhxJGyY"
      }
    },
    {
      "cell_type": "code",
      "source": [
        "movies.fillna('', inplace = True)"
      ],
      "metadata": {
        "id": "bVcPQPBRJJxp"
      },
      "execution_count": 18,
      "outputs": []
    },
    {
      "cell_type": "markdown",
      "source": [
        "Make content description"
      ],
      "metadata": {
        "id": "wSiL4ilYJQS4"
      }
    },
    {
      "cell_type": "code",
      "source": [
        "movies['tags'] = movies['overview'] + \" \" + movies['genres'] + \" \" + movies['keywords']\n",
        "#combining all text into single column"
      ],
      "metadata": {
        "id": "R6jm-E4eKOXV"
      },
      "execution_count": 19,
      "outputs": []
    },
    {
      "cell_type": "markdown",
      "source": [
        "#Vectorization"
      ],
      "metadata": {
        "id": "Yv7Okl7hKilD"
      }
    },
    {
      "cell_type": "markdown",
      "source": [
        "Converting text into numerical values"
      ],
      "metadata": {
        "id": "2iy6Ml3UKpaL"
      }
    },
    {
      "cell_type": "code",
      "source": [
        "vec = CountVectorizer(max_features = 5000, stop_words = 'english')\n",
        "vectors = vec.fit_transform(movies['tags']).toarray()"
      ],
      "metadata": {
        "id": "fPGnibvzKmy-"
      },
      "execution_count": 20,
      "outputs": []
    },
    {
      "cell_type": "markdown",
      "source": [
        "Cal similar scores"
      ],
      "metadata": {
        "id": "59UZ-3tHM_6D"
      }
    },
    {
      "cell_type": "code",
      "source": [
        "sim = cosine_similarity(vectors)\n",
        "#cosine_similarity measures how close the two vectors are"
      ],
      "metadata": {
        "id": "j7pOPg3aND29"
      },
      "execution_count": 21,
      "outputs": []
    },
    {
      "cell_type": "markdown",
      "source": [
        "#Recommention Function"
      ],
      "metadata": {
        "id": "WULbBkfjNU6V"
      }
    },
    {
      "cell_type": "code",
      "source": [
        "def recommend(movie_name):\n",
        "  movie_name = movie_name.lower() #to avoid case sentivity\n",
        "\n",
        "  if movie_name not in movies['title'].str.lower().values: #checking whether movie exists or not\n",
        "    print(f\"Movie '{movie_name}' not found in dataset.\")\n",
        "    return\n",
        "\n",
        "  movie_index = movies[movies['title'].str.lower() == movie_name].index[0] #getting index of movie\n",
        "\n",
        "  similar_score = sim[movie_index] #getting similar scores for the movie\n",
        "\n",
        "  movie_list = sorted(list(enumerate(similar_score)), key=lambda x: x[1], reverse=True)[1:6] #sorting the scores\n",
        "                                                          #^anonymous function\n",
        "                           #^enumerate adds index to every item in an iterable\n",
        "                     #^converts enumerate object into list\n",
        "  print(f\"\\n Top 5 recommendations for '{movies.iloc[movie_index].title}':\")\n",
        "  for i in movie_list:\n",
        "    print(\" >\", movies.iloc[i[0]].title)\n",
        "\n",
        "#Testing in multiple movies\n",
        "recommend(\"Avatar\")\n",
        "recommend(\"The Dark Knight\")\n",
        "recommend(\"Inception\")\n",
        "recommend(\"Pirates of the Caribbean: At World's End\")\n",
        "recommend(\"The Lion King\")\n",
        "recommend(\"Titanic\")"
      ],
      "metadata": {
        "colab": {
          "base_uri": "https://localhost:8080/"
        },
        "id": "GCJN845yNZzx",
        "outputId": "3a2d8825-1a27-44d7-99ba-98ccd8416399"
      },
      "execution_count": 22,
      "outputs": [
        {
          "output_type": "stream",
          "name": "stdout",
          "text": [
            "\n",
            " Top 5 recommendations for 'Avatar':\n",
            " > The Fifth Element\n",
            " > Dune\n",
            " > Interstellar\n",
            " > Southland Tales\n",
            " > Everyone Says I Love You\n",
            "\n",
            " Top 5 recommendations for 'The Dark Knight':\n",
            " > Batman Begins\n",
            " > The Dark Knight Rises\n",
            " > Batman Forever\n",
            " > Brooklyn's Finest\n",
            " > Everyone Says I Love You\n",
            "\n",
            " Top 5 recommendations for 'Inception':\n",
            " > Southland Tales\n",
            " > The Matrix Revolutions\n",
            " > Everyone Says I Love You\n",
            " > Brooklyn's Finest\n",
            " > Mad Max 2: The Road Warrior\n",
            "\n",
            " Top 5 recommendations for 'Pirates of the Caribbean: At World's End':\n",
            " > Pirates of the Caribbean: Dead Man's Chest\n",
            " > Everyone Says I Love You\n",
            " > Southland Tales\n",
            " > Brooklyn's Finest\n",
            " > The Hobbit: An Unexpected Journey\n",
            "\n",
            " Top 5 recommendations for 'The Lion King':\n",
            " > Everyone Says I Love You\n",
            " > Brooklyn's Finest\n",
            " > Southland Tales\n",
            " > Joe\n",
            " > The Simpsons Movie\n",
            "\n",
            " Top 5 recommendations for 'Titanic':\n",
            " > Everyone Says I Love You\n",
            " > Brooklyn's Finest\n",
            " > Southland Tales\n",
            " > Hard Candy\n",
            " > Poseidon\n"
          ]
        }
      ]
    }
  ]
}